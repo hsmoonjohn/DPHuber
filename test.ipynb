{
 "cells": [
  {
   "cell_type": "code",
   "execution_count": 1,
   "id": "31b9b047-e230-47c5-a773-41b0c9ded4c1",
   "metadata": {},
   "outputs": [],
   "source": [
    "from robust_mean import huberReg"
   ]
  },
  {
   "cell_type": "code",
   "execution_count": 2,
   "id": "6cf23b24-43c3-4810-a28b-61e742bd5d18",
   "metadata": {},
   "outputs": [],
   "source": [
    "import numpy as np\n",
    "import math\n",
    "from sklearn.linear_model import HuberRegressor\n",
    "import numpy.random as rgt\n",
    "# ... other necessary imports ...\n",
    "\n",
    "# Assuming your class definition `huberReg` is already provided above"
   ]
  },
  {
   "cell_type": "code",
   "execution_count": 98,
   "id": "fc8dad48-8041-4e9c-b107-b83623e1e00b",
   "metadata": {},
   "outputs": [
    {
     "data": {
      "text/plain": [
       "4.8129523330015545"
      ]
     },
     "execution_count": 98,
     "metadata": {},
     "output_type": "execute_result"
    }
   ],
   "source": [
    "# Generate some sample data\n",
    "n, d = 5000, 5  # Adjust n and d according to your needs\n",
    "X = np.random.randn(n, d)  # Random data for X\n",
    "truebeta = rgt.multivariate_normal(np.zeros(d), np.identity(d))\n",
    "Y = X.dot(truebeta) + np.random.randn(n)  # Linear relationship with noise\n",
    "\n",
    "# Create an instance of your class\n",
    "huber_regression = huberReg(X, Y)\n",
    "\n",
    "# Set initial parameters for noisy Huber regression\n",
    "beta0 = np.zeros(d)\n",
    "epsilon = 0.1\n",
    "T = 10\n",
    "delta = 0.01\n",
    "eta = 1\n",
    "row_norms = np.linalg.norm(X, axis=1)\n",
    "\n",
    "# Finding the maximum 2-norm among all rows\n",
    "gamma = np.max(row_norms)\n",
    "gamma"
   ]
  },
  {
   "cell_type": "code",
   "execution_count": 101,
   "id": "a92caf90-8eaf-4492-9c7c-33260e90cad0",
   "metadata": {},
   "outputs": [
    {
     "name": "stdout",
     "output_type": "stream",
     "text": [
      "Noisy Huber Regression Result: [-0.29956248  0.36527583  0.36741373 -0.77468552  0.57255891]\n",
      "Ordinary Huber Regression Coefficients: [ 1.60519073  0.80633407  0.56950276  0.5108081  -0.07697369]\n"
     ]
    }
   ],
   "source": [
    "# Run the noisy Huber regression\n",
    "noisy_huber_result = huber_regression.noisy_huber_reg_lowdim(beta0=beta0, epsilon=epsilon, T=T, delta=delta, eta=0.001, gamma=2)\n",
    "print(\"Noisy Huber Regression Result:\", noisy_huber_result[0])\n",
    "\n",
    "# Ordinary Huber Regression for comparison\n",
    "huber_reg = HuberRegressor().fit(X, Y)\n",
    "ordinary_huber_coefficients = huber_reg.coef_\n",
    "print(\"Ordinary Huber Regression Coefficients:\", ordinary_huber_coefficients)\n",
    "\n",
    "# Compare the results (You can use metrics like MSE, coefficients, predictions, etc.)"
   ]
  },
  {
   "cell_type": "code",
   "execution_count": 102,
   "id": "e4d7c567-9d05-42b5-9a81-b54e68fa1945",
   "metadata": {},
   "outputs": [
    {
     "data": {
      "text/plain": [
       "array([ 1.61244219,  0.78881411,  0.56736909,  0.5271901 , -0.0641991 ])"
      ]
     },
     "execution_count": 102,
     "metadata": {},
     "output_type": "execute_result"
    }
   ],
   "source": [
    "truebeta"
   ]
  },
  {
   "cell_type": "code",
   "execution_count": null,
   "id": "fad527a1-fc9a-48be-a477-6b11602099c4",
   "metadata": {},
   "outputs": [],
   "source": [
    "noisy_huber_result[2]"
   ]
  },
  {
   "cell_type": "code",
   "execution_count": null,
   "id": "b84198b9-6a27-4360-b4c8-2965c4d5b53a",
   "metadata": {},
   "outputs": [],
   "source": [
    "noisy_huber_result[1][1]"
   ]
  },
  {
   "cell_type": "code",
   "execution_count": null,
   "id": "e90792fb-5054-43e2-91c7-3c265ab5cc20",
   "metadata": {},
   "outputs": [],
   "source": []
  }
 ],
 "metadata": {
  "kernelspec": {
   "display_name": "Python 3 (ipykernel)",
   "language": "python",
   "name": "python3"
  },
  "language_info": {
   "codemirror_mode": {
    "name": "ipython",
    "version": 3
   },
   "file_extension": ".py",
   "mimetype": "text/x-python",
   "name": "python",
   "nbconvert_exporter": "python",
   "pygments_lexer": "ipython3",
   "version": "3.8.18"
  }
 },
 "nbformat": 4,
 "nbformat_minor": 5
}
