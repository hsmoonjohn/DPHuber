{
 "cells": [
  {
   "cell_type": "code",
   "execution_count": 1,
   "id": "853394e0-85f3-41e1-9b6e-8bcf37025455",
   "metadata": {},
   "outputs": [],
   "source": [
    "import numpy as np\n",
    "import matplotlib.pyplot as plt\n",
    "import math\n",
    "from sklearn.linear_model import HuberRegressor\n",
    "import numpy.random as rgt\n",
    "from robust_mean import huberReg\n"
   ]
  },
  {
   "cell_type": "code",
   "execution_count": null,
   "id": "d8e1458f-41c8-4c73-af71-efa385733930",
   "metadata": {},
   "outputs": [],
   "source": [
    "# Assuming huberReg is your custom class for noisy Huber regression\n",
    "\n",
    "def l2_distance(vec1, vec2):\n",
    "    return np.sqrt(np.sum((vec1 - vec2) ** 2))\n",
    "\n",
    "def run_experiment(n, d, repetitions, eta, epsilon, T, delta, epsilon2=None):\n",
    "    errors_noisy = []\n",
    "    errors_ordinary = []\n",
    "    if epsilon2 is not None:\n",
    "        errors_noisy2 = []\n",
    "    \n",
    "    for _ in range(repetitions):\n",
    "        # Generate sample data\n",
    "        X = np.random.uniform(-1/np.sqrt(d), 1/np.sqrt(d), (n, d))\n",
    "        truebeta = np.random.normal(0, 1, d)\n",
    "        truebeta /= np.linalg.norm(truebeta)\n",
    "        #Y = X.dot(truebeta) + np.random.normal(0, 4, n)+1\n",
    "        Y = X.dot(truebeta) + rgt.standard_t(2, n) +1\n",
    "        beta0 = np.zeros(d+1)\n",
    "\n",
    "        # Noisy Huber Regression\n",
    "        noisy_huber_regression = huberReg(X, Y)\n",
    "        noisy_huber_result = noisy_huber_regression.noisy_huber_reg_lowdim(beta0=beta0, epsilon=epsilon, T=T, delta=delta, eta=eta)\n",
    "        if epsilon2 is not None:\n",
    "            noisy_huber_result2 = noisy_huber_regression.noisy_huber_reg_lowdim(beta0=beta0, epsilon=epsilon2, T=T, delta=delta, eta=eta)\n",
    "            error_noisy2 = l2_distance(noisy_huber_result2[0][1:], truebeta)\n",
    "            errors_noisy2.append(error_noisy2)\n",
    "        error_noisy = l2_distance(noisy_huber_result[0][1:], truebeta)  # Assuming the first return value is the regression result\n",
    "        errors_noisy.append(error_noisy)\n",
    "\n",
    "        # Ordinary Huber Regression\n",
    "        huber_reg = HuberRegressor().fit(X, Y)\n",
    "        ordinary_huber_coefficients = huber_reg.coef_\n",
    "        error_ordinary = l2_distance(ordinary_huber_coefficients, truebeta)\n",
    "        errors_ordinary.append(error_ordinary)\n",
    "        #error_between = l2_distance(ordinary_huber_coefficients,noisy_huber_result[0][1:])\n",
    "        #errors_between.append(error_between)\n",
    "    if epsilon2 is not None:\n",
    "        return np.mean(errors_noisy),np.mean(errors_noisy2),np.mean(errors_ordinary)\n",
    "    else:\n",
    "        return np.mean(errors_noisy), np.mean(errors_ordinary)"
   ]
  },
  {
   "cell_type": "code",
   "execution_count": null,
   "id": "2a64e0da-6011-48f8-b17e-1cd47565fde8",
   "metadata": {},
   "outputs": [],
   "source": [
    "# Parameters\n",
    "d = 5\n",
    "eta = 1\n",
    "delta = 0.001\n",
    "#T=10\n",
    "epsilon = 0.5\n",
    "epsilon2 = 0.3\n",
    "repetitions = 100\n",
    "sample_sizes = np.array(range(2000, 30000, 500))  # Adjust sample sizes as needed\n",
    "\n",
    "# Running the experiment and plotting\n",
    "mean_errors_noisy = []\n",
    "mean_errors_ordinary = []\n",
    "mean_errors_noisy2 = []\n",
    "for n in sample_sizes:\n",
    "    errors_noisy = []\n",
    "    errors_noisy2 = []\n",
    "    errors_ord = []\n",
    "    T=int(np.log(n))\n",
    "    for m in range(repetitions):\n",
    "        X = np.random.uniform(-1/np.sqrt(d), 1/np.sqrt(d), (n, d))\n",
    "        truebeta = np.random.normal(0, 1, d)\n",
    "        truebeta /= np.linalg.norm(truebeta)\n",
    "        #Y = X.dot(truebeta) + np.random.normal(0, 4, n)+1\n",
    "        Y = X.dot(truebeta) + rgt.standard_t(2.2, n) +1\n",
    "        beta0 = np.zeros(d+1)\n",
    "\n",
    "        # Noisy Huber Regression1\n",
    "        noisy_huber_regression = huberReg(X, Y)\n",
    "        noisy_huber_result = noisy_huber_regression.noisy_huber_reg_lowdim(beta0=beta0, epsilon=epsilon, T=T, delta=delta, eta=eta)\n",
    "        errors_noisy.append(l2_distance(noisy_huber_result[0][1:], truebeta))\n",
    "        # Noisy Huber Regression2\n",
    "        noisy_huber_regression = huberReg(X, Y)\n",
    "        noisy_huber_result2 = noisy_huber_regression.noisy_huber_reg_lowdim(beta0=beta0, epsilon=epsilon2, T=T, delta=delta, eta=eta)\n",
    "        errors_noisy2.append(l2_distance(noisy_huber_result2[0][1:], truebeta))\n",
    "        #Ordinary Huber\n",
    "        huber_reg = HuberRegressor().fit(X, Y)\n",
    "        ordinary_huber_coefficients = huber_reg.coef_\n",
    "        errors_ord.append(l2_distance(ordinary_huber_coefficients, truebeta))\n",
    "    mean_errors_noisy.append(np.mean(errors_noisy))\n",
    "    mean_errors_noisy2.append(np.mean(errors_noisy2))\n",
    "    mean_errors_ordinary.append(np.mean(errors_ord))\n",
    "\n",
    "\n",
    "        "
   ]
  },
  {
   "cell_type": "code",
   "execution_count": null,
   "id": "a3c3a833-5538-432c-b829-ab5d16c6338a",
   "metadata": {},
   "outputs": [],
   "source": [
    "plt.plot(sample_sizes, np.log(mean_errors_noisy), label='Noisy Huber Regression_epsilon=0.5')\n",
    "plt.plot(sample_sizes, np.log(mean_errors_noisy2), label='Noisy Huber Regression_epsilon=0.3')\n",
    "plt.plot(sample_sizes, np.log(mean_errors_ordinary), label='Ordinary Huber Regression')\n",
    "#plt.plot(sample_sizes, mean_errors_between, label='error between estimator')\n",
    "plt.xlabel('Sample Size')\n",
    "plt.ylabel('Log Estimation Error')\n",
    "plt.title('Comparison of Regression Methods')\n",
    "plt.legend()\n",
    "#plt.savefig('my_plot_t22.png', dpi=300)\n",
    "plt.show()"
   ]
  },
  {
   "cell_type": "code",
   "execution_count": null,
   "id": "b64aee02-6098-4640-849e-d6a124498698",
   "metadata": {},
   "outputs": [],
   "source": []
  },
  {
   "cell_type": "code",
   "execution_count": 2,
   "id": "2262c96f-8615-40b0-a0c9-4febc405ba5c",
   "metadata": {},
   "outputs": [],
   "source": [
    "n, d = 1000, 1000\n",
    "X = np.random.randn(n, d)\n",
    "true_beta = np.zeros(d)\n",
    "true_beta[:5] = np.random.randn(5)  # Sparse true coefficients\n",
    "true_beta = true_beta/np.linalg.norm(true_beta)\n",
    "Y = X.dot(true_beta) + np.random.randn(n)"
   ]
  },
  {
   "cell_type": "code",
   "execution_count": 3,
   "id": "92326f00-d524-4d1a-8b75-ae6601c5470f",
   "metadata": {},
   "outputs": [],
   "source": [
    "reg = huberReg(X,Y)"
   ]
  },
  {
   "cell_type": "code",
   "execution_count": 4,
   "id": "ee451fc4-a9ac-4ffc-b1c5-5f0449ff32fa",
   "metadata": {},
   "outputs": [],
   "source": [
    "eta = 1\n",
    "delta = 0.001\n",
    "T=int(np.log(1000))\n",
    "epsilon = 0.5"
   ]
  },
  {
   "cell_type": "code",
   "execution_count": 6,
   "id": "9b41ed67-b941-49fa-a0e8-3234d504d8b6",
   "metadata": {},
   "outputs": [],
   "source": [
    "beta0=np.zeros(d+1)"
   ]
  },
  {
   "cell_type": "code",
   "execution_count": 7,
   "id": "6952c6e5-1d57-4357-a0c1-08a5187528db",
   "metadata": {},
   "outputs": [],
   "source": [
    "beta_final, diagnostics, beta_sequence = reg.noisy_huber_reg_highdim(beta0=beta0,epsilon=epsilon, T=T, delta=delta, eta=eta, s=5 )"
   ]
  },
  {
   "cell_type": "code",
   "execution_count": 8,
   "id": "03a0eaf3-0600-4227-9d5d-f17875362854",
   "metadata": {},
   "outputs": [
    {
     "data": {
      "text/plain": [
       "array([0., 0., 0., 0., 0., 0., 0.])"
      ]
     },
     "execution_count": 8,
     "metadata": {},
     "output_type": "execute_result"
    }
   ],
   "source": [
    "beta_final"
   ]
  },
  {
   "cell_type": "code",
   "execution_count": 25,
   "id": "37abae1c-00a0-4c8f-a8a3-119cd667f501",
   "metadata": {},
   "outputs": [
    {
     "data": {
      "text/plain": [
       "array([-0.11245236,  0.        ,  0.        ,  0.        ,  0.        ,\n",
       "        0.        ])"
      ]
     },
     "execution_count": 25,
     "metadata": {},
     "output_type": "execute_result"
    }
   ],
   "source": [
    "beta_sequence[:,6][0:6]"
   ]
  },
  {
   "cell_type": "code",
   "execution_count": null,
   "id": "f3d60511-c67d-4c24-b72d-954c2230adb4",
   "metadata": {},
   "outputs": [],
   "source": []
  }
 ],
 "metadata": {
  "kernelspec": {
   "display_name": "Python 3 (ipykernel)",
   "language": "python",
   "name": "python3"
  },
  "language_info": {
   "codemirror_mode": {
    "name": "ipython",
    "version": 3
   },
   "file_extension": ".py",
   "mimetype": "text/x-python",
   "name": "python",
   "nbconvert_exporter": "python",
   "pygments_lexer": "ipython3",
   "version": "3.8.18"
  }
 },
 "nbformat": 4,
 "nbformat_minor": 5
}
